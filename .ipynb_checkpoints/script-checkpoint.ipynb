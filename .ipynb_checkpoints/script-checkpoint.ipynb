{
 "cells": [
  {
   "cell_type": "markdown",
   "metadata": {},
   "source": [
    "# Fake News Detection Using Machine Learning  \n",
    "\n",
    "## Introduction  \n",
    "### Background  \n",
    "Fake news has become a significant challenge in today's digital age, with misinformation spreading rapidly across social media and other platforms. Identifying and mitigating fake news is essential to ensuring the reliability of information available to the public.  \n",
    "\n",
    "### Motivation  \n",
    "With the growing influence of news on public opinion, detecting fake news using machine learning can play a crucial role in combating misinformation. This project aims to contribute to this domain by exploring effective machine learning models for fake news classification.  \n",
    "\n",
    "### Objectives  \n",
    "- To preprocess a dataset containing real and fake news articles.  \n",
    "- To implement machine learning models for classifying news articles as real or fake.  \n",
    "- To evaluate the performance of the models using appropriate metrics.  \n"
   ]
  },
  {
   "cell_type": "code",
   "execution_count": 1,
   "metadata": {},
   "outputs": [],
   "source": [
    "# In this block we will import all the necessary modules\n",
    "import pandas as pd\n",
    "import numpy as np\n",
    "\n"
   ]
  },
  {
   "cell_type": "markdown",
   "metadata": {},
   "source": [
    "## Dataset Description  \n",
    "\n",
    "### Source  \n",
    "The dataset used in this project is publicly available and has been sourced from [Kaggle/Dataset Source Name] (mention exact source if known). It contains labeled data for fake and real news articles.  \n",
    "\n",
    "### Features  \n",
    "The dataset includes the following features:  \n",
    "- **Title**: The headline of the news article.  \n",
    "- **Text**: The main content of the news article.  \n",
    "- **Subject**: The category of the news article (e.g., politics, technology).  \n",
    "- **Date**: The publication date of the article.  \n",
    "\n",
    "### Target Variable  \n",
    "The target variable is **Label**, which indicates whether the news article is:  \n",
    "- **1**: Fake  \n",
    "- **0**: Real  \n"
   ]
  },
  {
   "cell_type": "markdown",
   "metadata": {},
   "source": [
    "### Preprocessing: Handling Separate Datasets  \n",
    "The dataset consists of two separate files: one for fake news and another for real news. These will be loaded individually and combined into a single dataset for analysis.  "
   ]
  },
  {
   "cell_type": "code",
   "execution_count": 2,
   "metadata": {},
   "outputs": [
    {
     "name": "stdout",
     "output_type": "stream",
     "text": [
      "Combined Dataset Shape: (44898, 5)\n",
      "                                               title  \\\n",
      "0  Ben Stein Calls Out 9th Circuit Court: Committ...   \n",
      "1  Trump drops Steve Bannon from National Securit...   \n",
      "2  Puerto Rico expects U.S. to lift Jones Act shi...   \n",
      "3   OOPS: Trump Just Accidentally Confirmed He Le...   \n",
      "4  Donald Trump heads for Scotland to reopen a go...   \n",
      "\n",
      "                                                text       subject  \\\n",
      "0  21st Century Wire says Ben Stein, reputable pr...       US_News   \n",
      "1  WASHINGTON (Reuters) - U.S. President Donald T...  politicsNews   \n",
      "2  (Reuters) - Puerto Rico Governor Ricardo Rosse...  politicsNews   \n",
      "3  On Monday, Donald Trump once again embarrassed...          News   \n",
      "4  GLASGOW, Scotland (Reuters) - Most U.S. presid...  politicsNews   \n",
      "\n",
      "                  date  label  \n",
      "0    February 13, 2017      1  \n",
      "1       April 5, 2017       0  \n",
      "2  September 27, 2017       0  \n",
      "3         May 22, 2017      1  \n",
      "4       June 24, 2016       0  \n"
     ]
    }
   ],
   "source": [
    "# Load the fake and true news datasets\n",
    "fake_data = pd.read_csv('data/Fake.csv') \n",
    "true_data = pd.read_csv('data/True.csv')\n",
    "\n",
    "# Add a label column to each dataset\n",
    "fake_data['label'] = 1  # Label 1 for fake news\n",
    "true_data['label'] = 0  # Label 0 for real news\n",
    "\n",
    "# Combine the datasets\n",
    "data = pd.concat([fake_data, true_data], axis=0).reset_index(drop=True)\n",
    "\n",
    "# Shuffle the combined dataset to mix fake and real news\n",
    "data = data.sample(frac=1, random_state=42).reset_index(drop=True)\n",
    "\n",
    "# Display combined dataset info\n",
    "print(\"Combined Dataset Shape:\", data.shape)\n",
    "print(data.head())\n"
   ]
  },
  {
   "cell_type": "markdown",
   "metadata": {},
   "source": [
    "### Data Cleaning  \n",
    "To ensure the dataset is suitable for machine learning, the following cleaning steps will be performed:  \n",
    "1. Check for and handle missing values.  \n",
    "2. Remove duplicate rows.  \n",
    "3. Drop unnecessary columns, if any.  "
   ]
  },
  {
   "cell_type": "code",
   "execution_count": 3,
   "metadata": {},
   "outputs": [
    {
     "name": "stdout",
     "output_type": "stream",
     "text": [
      "Missing Values:\n",
      " title      0\n",
      "text       0\n",
      "subject    0\n",
      "date       0\n",
      "label      0\n",
      "dtype: int64\n",
      "Dataset after cleaning:\n",
      "Shape: (44689, 5)\n",
      "                                               title  \\\n",
      "0  Ben Stein Calls Out 9th Circuit Court: Committ...   \n",
      "1  Trump drops Steve Bannon from National Securit...   \n",
      "2  Puerto Rico expects U.S. to lift Jones Act shi...   \n",
      "3   OOPS: Trump Just Accidentally Confirmed He Le...   \n",
      "4  Donald Trump heads for Scotland to reopen a go...   \n",
      "\n",
      "                                                text       subject  \\\n",
      "0  21st Century Wire says Ben Stein, reputable pr...       US_News   \n",
      "1  WASHINGTON (Reuters) - U.S. President Donald T...  politicsNews   \n",
      "2  (Reuters) - Puerto Rico Governor Ricardo Rosse...  politicsNews   \n",
      "3  On Monday, Donald Trump once again embarrassed...          News   \n",
      "4  GLASGOW, Scotland (Reuters) - Most U.S. presid...  politicsNews   \n",
      "\n",
      "                  date  label  \n",
      "0    February 13, 2017      1  \n",
      "1       April 5, 2017       0  \n",
      "2  September 27, 2017       0  \n",
      "3         May 22, 2017      1  \n",
      "4       June 24, 2016       0  \n"
     ]
    }
   ],
   "source": [
    "# Check for missing values\n",
    "print(\"Dataset before cleaning:\")\n",
    "print(\"Shape:\", data.shape)\n",
    "print(\"Missing Values:\\n\", data.isnull().sum())\n",
    "\n",
    "# Drop rows with missing values (if any)\n",
    "data.dropna(inplace=True)\n",
    "\n",
    "# Remove duplicate rows\n",
    "data.drop_duplicates(inplace=True)\n",
    "\n",
    "# Display updated dataset info\n",
    "print(\"Dataset after cleaning:\")\n",
    "print(\"Shape:\", data.shape)\n",
    "print(data.head())\n"
   ]
  },
  {
   "cell_type": "code",
   "execution_count": null,
   "metadata": {},
   "outputs": [],
   "source": []
  }
 ],
 "metadata": {
  "kernelspec": {
   "display_name": "fn_detect",
   "language": "python",
   "name": "python3"
  },
  "language_info": {
   "codemirror_mode": {
    "name": "ipython",
    "version": 3
   },
   "file_extension": ".py",
   "mimetype": "text/x-python",
   "name": "python",
   "nbconvert_exporter": "python",
   "pygments_lexer": "ipython3",
   "version": "3.12.3"
  }
 },
 "nbformat": 4,
 "nbformat_minor": 2
}
