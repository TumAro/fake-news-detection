{
 "cells": [
  {
   "cell_type": "markdown",
   "metadata": {},
   "source": [
    "# Fake News Detection Using Machine Learning  \n",
    "\n",
    "## Introduction  \n",
    "### Background  \n",
    "Fake news has become a significant challenge in today's digital age, with misinformation spreading rapidly across social media and other platforms. Identifying and mitigating fake news is essential to ensuring the reliability of information available to the public.  \n",
    "\n",
    "### Motivation  \n",
    "With the growing influence of news on public opinion, detecting fake news using machine learning can play a crucial role in combating misinformation. This project aims to contribute to this domain by exploring effective machine learning models for fake news classification.  \n",
    "\n",
    "### Objectives  \n",
    "- To preprocess a dataset containing real and fake news articles.  \n",
    "- To implement machine learning models for classifying news articles as real or fake.  \n",
    "- To evaluate the performance of the models using appropriate metrics.  \n"
   ]
  },
  {
   "cell_type": "code",
   "execution_count": 5,
   "metadata": {},
   "outputs": [],
   "source": [
    "# In this block we will import all the necessary modules\n",
    "import pandas as pd\n",
    "import re\n",
    "import matplotlib.pyplot as plt\n",
    "import seaborn as sns\n",
    "\n",
    "from sklearn.model_selection import train_test_split\n",
    "from sklearn.feature_extraction.text import TfidfVectorizer\n",
    "from sklearn.compose import ColumnTransformer\n",
    "\n",
    "from sklearn.linear_model import LogisticRegression\n",
    "from sklearn.metrics import accuracy_score, classification_report, confusion_matrix\n",
    "from sklearn.model_selection import cross_val_score\n",
    "from sklearn.model_selection import GridSearchCV"
   ]
  },
  {
   "cell_type": "markdown",
   "metadata": {},
   "source": [
    "## Dataset Description  \n",
    "\n",
    "### Source  \n",
    "The dataset used in this project is publicly available and has been sourced from [Kaggle/Dataset Source Name] (mention exact source if known). It contains labeled data for fake and real news articles.  \n",
    "\n",
    "### Features  \n",
    "The dataset includes the following features:  \n",
    "- **Title**: The headline of the news article.  \n",
    "- **Text**: The main content of the news article.  \n",
    "- **Subject**: The category of the news article (e.g., politics, technology).  \n",
    "- **Date**: The publication date of the article.  \n",
    "\n",
    "### Target Variable  \n",
    "The target variable is **Label**, which indicates whether the news article is:  \n",
    "- **1**: Fake  \n",
    "- **0**: Real  \n"
   ]
  },
  {
   "cell_type": "markdown",
   "metadata": {},
   "source": [
    "### Preprocessing: Handling Separate Datasets  \n",
    "The dataset consists of two separate files: one for fake news and another for real news. These will be loaded individually and combined into a single dataset for analysis.  "
   ]
  },
  {
   "cell_type": "code",
   "execution_count": 6,
   "metadata": {},
   "outputs": [
    {
     "name": "stdout",
     "output_type": "stream",
     "text": [
      "Combined Dataset Shape: (44898, 5)\n"
     ]
    },
    {
     "data": {
      "text/html": [
       "<div>\n",
       "<style scoped>\n",
       "    .dataframe tbody tr th:only-of-type {\n",
       "        vertical-align: middle;\n",
       "    }\n",
       "\n",
       "    .dataframe tbody tr th {\n",
       "        vertical-align: top;\n",
       "    }\n",
       "\n",
       "    .dataframe thead th {\n",
       "        text-align: right;\n",
       "    }\n",
       "</style>\n",
       "<table border=\"1\" class=\"dataframe\">\n",
       "  <thead>\n",
       "    <tr style=\"text-align: right;\">\n",
       "      <th></th>\n",
       "      <th>title</th>\n",
       "      <th>text</th>\n",
       "      <th>subject</th>\n",
       "      <th>date</th>\n",
       "      <th>label</th>\n",
       "    </tr>\n",
       "  </thead>\n",
       "  <tbody>\n",
       "    <tr>\n",
       "      <th>0</th>\n",
       "      <td>Ben Stein Calls Out 9th Circuit Court: Committ...</td>\n",
       "      <td>21st Century Wire says Ben Stein, reputable pr...</td>\n",
       "      <td>US_News</td>\n",
       "      <td>February 13, 2017</td>\n",
       "      <td>1</td>\n",
       "    </tr>\n",
       "    <tr>\n",
       "      <th>1</th>\n",
       "      <td>Trump drops Steve Bannon from National Securit...</td>\n",
       "      <td>WASHINGTON (Reuters) - U.S. President Donald T...</td>\n",
       "      <td>politicsNews</td>\n",
       "      <td>April 5, 2017</td>\n",
       "      <td>0</td>\n",
       "    </tr>\n",
       "    <tr>\n",
       "      <th>2</th>\n",
       "      <td>Puerto Rico expects U.S. to lift Jones Act shi...</td>\n",
       "      <td>(Reuters) - Puerto Rico Governor Ricardo Rosse...</td>\n",
       "      <td>politicsNews</td>\n",
       "      <td>September 27, 2017</td>\n",
       "      <td>0</td>\n",
       "    </tr>\n",
       "    <tr>\n",
       "      <th>3</th>\n",
       "      <td>OOPS: Trump Just Accidentally Confirmed He Le...</td>\n",
       "      <td>On Monday, Donald Trump once again embarrassed...</td>\n",
       "      <td>News</td>\n",
       "      <td>May 22, 2017</td>\n",
       "      <td>1</td>\n",
       "    </tr>\n",
       "    <tr>\n",
       "      <th>4</th>\n",
       "      <td>Donald Trump heads for Scotland to reopen a go...</td>\n",
       "      <td>GLASGOW, Scotland (Reuters) - Most U.S. presid...</td>\n",
       "      <td>politicsNews</td>\n",
       "      <td>June 24, 2016</td>\n",
       "      <td>0</td>\n",
       "    </tr>\n",
       "  </tbody>\n",
       "</table>\n",
       "</div>"
      ],
      "text/plain": [
       "                                               title  \\\n",
       "0  Ben Stein Calls Out 9th Circuit Court: Committ...   \n",
       "1  Trump drops Steve Bannon from National Securit...   \n",
       "2  Puerto Rico expects U.S. to lift Jones Act shi...   \n",
       "3   OOPS: Trump Just Accidentally Confirmed He Le...   \n",
       "4  Donald Trump heads for Scotland to reopen a go...   \n",
       "\n",
       "                                                text       subject  \\\n",
       "0  21st Century Wire says Ben Stein, reputable pr...       US_News   \n",
       "1  WASHINGTON (Reuters) - U.S. President Donald T...  politicsNews   \n",
       "2  (Reuters) - Puerto Rico Governor Ricardo Rosse...  politicsNews   \n",
       "3  On Monday, Donald Trump once again embarrassed...          News   \n",
       "4  GLASGOW, Scotland (Reuters) - Most U.S. presid...  politicsNews   \n",
       "\n",
       "                  date  label  \n",
       "0    February 13, 2017      1  \n",
       "1       April 5, 2017       0  \n",
       "2  September 27, 2017       0  \n",
       "3         May 22, 2017      1  \n",
       "4       June 24, 2016       0  "
      ]
     },
     "execution_count": 6,
     "metadata": {},
     "output_type": "execute_result"
    }
   ],
   "source": [
    "# Load the fake and true news datasets\n",
    "fake_data = pd.read_csv('data/Fake.csv') \n",
    "true_data = pd.read_csv('data/True.csv')\n",
    "\n",
    "# Add a label column to each dataset\n",
    "fake_data['label'] = 1  # Label 1 for fake news\n",
    "true_data['label'] = 0  # Label 0 for real news\n",
    "\n",
    "# Combine the datasets\n",
    "data = pd.concat([fake_data, true_data], axis=0).reset_index(drop=True)\n",
    "\n",
    "# Shuffle the combined dataset to mix fake and real news\n",
    "data = data.sample(frac=1, random_state=42).reset_index(drop=True)\n",
    "\n",
    "# Display combined dataset info\n",
    "print(\"Combined Dataset Shape:\", data.shape)\n",
    "data.head()\n"
   ]
  },
  {
   "cell_type": "markdown",
   "metadata": {},
   "source": [
    "### Data Cleaning  \n",
    "To ensure the dataset is suitable for machine learning, the following cleaning steps will be performed:  \n",
    "1. Check for and handle missing values.  \n",
    "2. Remove duplicate rows.  \n",
    "3. Drop unnecessary columns, if any.  "
   ]
  },
  {
   "cell_type": "code",
   "execution_count": 7,
   "metadata": {},
   "outputs": [
    {
     "name": "stdout",
     "output_type": "stream",
     "text": [
      "Dataset before cleaning:\n",
      "Shape: (44898, 5)\n",
      "Missing Values:\n",
      " title      0\n",
      "text       0\n",
      "subject    0\n",
      "date       0\n",
      "label      0\n",
      "dtype: int64\n",
      "Dataset after cleaning:\n",
      "Shape: (44689, 5)\n"
     ]
    },
    {
     "data": {
      "text/html": [
       "<div>\n",
       "<style scoped>\n",
       "    .dataframe tbody tr th:only-of-type {\n",
       "        vertical-align: middle;\n",
       "    }\n",
       "\n",
       "    .dataframe tbody tr th {\n",
       "        vertical-align: top;\n",
       "    }\n",
       "\n",
       "    .dataframe thead th {\n",
       "        text-align: right;\n",
       "    }\n",
       "</style>\n",
       "<table border=\"1\" class=\"dataframe\">\n",
       "  <thead>\n",
       "    <tr style=\"text-align: right;\">\n",
       "      <th></th>\n",
       "      <th>title</th>\n",
       "      <th>text</th>\n",
       "      <th>subject</th>\n",
       "      <th>date</th>\n",
       "      <th>label</th>\n",
       "    </tr>\n",
       "  </thead>\n",
       "  <tbody>\n",
       "    <tr>\n",
       "      <th>0</th>\n",
       "      <td>Ben Stein Calls Out 9th Circuit Court: Committ...</td>\n",
       "      <td>21st Century Wire says Ben Stein, reputable pr...</td>\n",
       "      <td>US_News</td>\n",
       "      <td>February 13, 2017</td>\n",
       "      <td>1</td>\n",
       "    </tr>\n",
       "    <tr>\n",
       "      <th>1</th>\n",
       "      <td>Trump drops Steve Bannon from National Securit...</td>\n",
       "      <td>WASHINGTON (Reuters) - U.S. President Donald T...</td>\n",
       "      <td>politicsNews</td>\n",
       "      <td>April 5, 2017</td>\n",
       "      <td>0</td>\n",
       "    </tr>\n",
       "    <tr>\n",
       "      <th>2</th>\n",
       "      <td>Puerto Rico expects U.S. to lift Jones Act shi...</td>\n",
       "      <td>(Reuters) - Puerto Rico Governor Ricardo Rosse...</td>\n",
       "      <td>politicsNews</td>\n",
       "      <td>September 27, 2017</td>\n",
       "      <td>0</td>\n",
       "    </tr>\n",
       "    <tr>\n",
       "      <th>3</th>\n",
       "      <td>OOPS: Trump Just Accidentally Confirmed He Le...</td>\n",
       "      <td>On Monday, Donald Trump once again embarrassed...</td>\n",
       "      <td>News</td>\n",
       "      <td>May 22, 2017</td>\n",
       "      <td>1</td>\n",
       "    </tr>\n",
       "    <tr>\n",
       "      <th>4</th>\n",
       "      <td>Donald Trump heads for Scotland to reopen a go...</td>\n",
       "      <td>GLASGOW, Scotland (Reuters) - Most U.S. presid...</td>\n",
       "      <td>politicsNews</td>\n",
       "      <td>June 24, 2016</td>\n",
       "      <td>0</td>\n",
       "    </tr>\n",
       "  </tbody>\n",
       "</table>\n",
       "</div>"
      ],
      "text/plain": [
       "                                               title  \\\n",
       "0  Ben Stein Calls Out 9th Circuit Court: Committ...   \n",
       "1  Trump drops Steve Bannon from National Securit...   \n",
       "2  Puerto Rico expects U.S. to lift Jones Act shi...   \n",
       "3   OOPS: Trump Just Accidentally Confirmed He Le...   \n",
       "4  Donald Trump heads for Scotland to reopen a go...   \n",
       "\n",
       "                                                text       subject  \\\n",
       "0  21st Century Wire says Ben Stein, reputable pr...       US_News   \n",
       "1  WASHINGTON (Reuters) - U.S. President Donald T...  politicsNews   \n",
       "2  (Reuters) - Puerto Rico Governor Ricardo Rosse...  politicsNews   \n",
       "3  On Monday, Donald Trump once again embarrassed...          News   \n",
       "4  GLASGOW, Scotland (Reuters) - Most U.S. presid...  politicsNews   \n",
       "\n",
       "                  date  label  \n",
       "0    February 13, 2017      1  \n",
       "1       April 5, 2017       0  \n",
       "2  September 27, 2017       0  \n",
       "3         May 22, 2017      1  \n",
       "4       June 24, 2016       0  "
      ]
     },
     "execution_count": 7,
     "metadata": {},
     "output_type": "execute_result"
    }
   ],
   "source": [
    "# Check for missing values\n",
    "print(\"Dataset before cleaning:\")\n",
    "print(\"Shape:\", data.shape)\n",
    "print(\"Missing Values:\\n\", data.isnull().sum())\n",
    "\n",
    "# Drop rows with missing values (if any)\n",
    "data.dropna(inplace=True)\n",
    "\n",
    "# Remove duplicate rows\n",
    "data.drop_duplicates(inplace=True)\n",
    "\n",
    "# Display updated dataset info\n",
    "print(\"Dataset after cleaning:\")\n",
    "print(\"Shape:\", data.shape)\n",
    "data.head()\n"
   ]
  },
  {
   "cell_type": "markdown",
   "metadata": {},
   "source": [
    "### Feature Selection and Text Preprocessing  \n",
    "1. Select relevant columns (e.g., `text` and `label`) for analysis.  \n",
    "2. Clean the text data by:  \n",
    "   - Removing special characters, numbers, and punctuations.  \n",
    "   - Converting text to lowercase.  \n",
    "   - Removing stopwords and stemming/lemmatizing the words (optional).  \n"
   ]
  },
  {
   "cell_type": "code",
   "execution_count": 8,
   "metadata": {},
   "outputs": [],
   "source": [
    "# collected from \n",
    "# https://productresources.collibra.com/docs/collibra/latest/Content/Settings/ServicesConfiguration/co_stop-words.htm\n",
    "stop_words = {'a',\n",
    "'an',\n",
    "'and',\n",
    "'are',\n",
    "'as',\n",
    "'at',\n",
    "'be',\n",
    "'but',\n",
    "'by',\n",
    "'for',\n",
    "'if',\n",
    "'in',\n",
    "'into',\n",
    "'is',\n",
    "'it',\n",
    "'no',\n",
    "'not',\n",
    "'of',\n",
    "'on',\n",
    "'or',\n",
    "'such',\n",
    "'that',\n",
    "'the',\n",
    "'their',\n",
    "'then',\n",
    "'there',\n",
    "'these',\n",
    "'they',\n",
    "'this',\n",
    "'to',\n",
    "'was',\n",
    "'will',\n",
    "'with'}"
   ]
  },
  {
   "cell_type": "code",
   "execution_count": 9,
   "metadata": {},
   "outputs": [
    {
     "data": {
      "text/plain": [
       "array(['US_News', 'politicsNews', 'News', 'Government News', 'left-news',\n",
       "       'worldnews', 'politics', 'Middle-east'], dtype=object)"
      ]
     },
     "execution_count": 9,
     "metadata": {},
     "output_type": "execute_result"
    }
   ],
   "source": [
    "data['subject'].unique()"
   ]
  },
  {
   "cell_type": "code",
   "execution_count": 10,
   "metadata": {},
   "outputs": [
    {
     "name": "stdout",
     "output_type": "stream",
     "text": [
      "Dataset after text cleaning:\n"
     ]
    },
    {
     "data": {
      "text/html": [
       "<div>\n",
       "<style scoped>\n",
       "    .dataframe tbody tr th:only-of-type {\n",
       "        vertical-align: middle;\n",
       "    }\n",
       "\n",
       "    .dataframe tbody tr th {\n",
       "        vertical-align: top;\n",
       "    }\n",
       "\n",
       "    .dataframe thead th {\n",
       "        text-align: right;\n",
       "    }\n",
       "</style>\n",
       "<table border=\"1\" class=\"dataframe\">\n",
       "  <thead>\n",
       "    <tr style=\"text-align: right;\">\n",
       "      <th></th>\n",
       "      <th>title</th>\n",
       "      <th>text</th>\n",
       "      <th>subject</th>\n",
       "      <th>date</th>\n",
       "      <th>label</th>\n",
       "      <th>cleaned_text</th>\n",
       "      <th>cleaned_title</th>\n",
       "    </tr>\n",
       "  </thead>\n",
       "  <tbody>\n",
       "    <tr>\n",
       "      <th>0</th>\n",
       "      <td>Ben Stein Calls Out 9th Circuit Court: Committ...</td>\n",
       "      <td>21st Century Wire says Ben Stein, reputable pr...</td>\n",
       "      <td>usnews</td>\n",
       "      <td>February 13, 2017</td>\n",
       "      <td>1</td>\n",
       "      <td>st century wire says ben stein reputable profe...</td>\n",
       "      <td>ben stein calls out th circuit court committed...</td>\n",
       "    </tr>\n",
       "    <tr>\n",
       "      <th>1</th>\n",
       "      <td>Trump drops Steve Bannon from National Securit...</td>\n",
       "      <td>WASHINGTON (Reuters) - U.S. President Donald T...</td>\n",
       "      <td>politicsnews</td>\n",
       "      <td>April 5, 2017</td>\n",
       "      <td>0</td>\n",
       "      <td>washington reuters us president donald trump r...</td>\n",
       "      <td>trump drops steve bannon from national securit...</td>\n",
       "    </tr>\n",
       "    <tr>\n",
       "      <th>2</th>\n",
       "      <td>Puerto Rico expects U.S. to lift Jones Act shi...</td>\n",
       "      <td>(Reuters) - Puerto Rico Governor Ricardo Rosse...</td>\n",
       "      <td>politicsnews</td>\n",
       "      <td>September 27, 2017</td>\n",
       "      <td>0</td>\n",
       "      <td>reuters puerto rico governor ricardo rossello ...</td>\n",
       "      <td>puerto rico expects us lift jones act shipping...</td>\n",
       "    </tr>\n",
       "    <tr>\n",
       "      <th>3</th>\n",
       "      <td>OOPS: Trump Just Accidentally Confirmed He Le...</td>\n",
       "      <td>On Monday, Donald Trump once again embarrassed...</td>\n",
       "      <td>news</td>\n",
       "      <td>May 22, 2017</td>\n",
       "      <td>1</td>\n",
       "      <td>monday donald trump once again embarrassed him...</td>\n",
       "      <td>oops trump just accidentally confirmed he leak...</td>\n",
       "    </tr>\n",
       "    <tr>\n",
       "      <th>4</th>\n",
       "      <td>Donald Trump heads for Scotland to reopen a go...</td>\n",
       "      <td>GLASGOW, Scotland (Reuters) - Most U.S. presid...</td>\n",
       "      <td>politicsnews</td>\n",
       "      <td>June 24, 2016</td>\n",
       "      <td>0</td>\n",
       "      <td>glasgow scotland reuters most us presidential ...</td>\n",
       "      <td>donald trump heads scotland reopen golf resort</td>\n",
       "    </tr>\n",
       "  </tbody>\n",
       "</table>\n",
       "</div>"
      ],
      "text/plain": [
       "                                               title  \\\n",
       "0  Ben Stein Calls Out 9th Circuit Court: Committ...   \n",
       "1  Trump drops Steve Bannon from National Securit...   \n",
       "2  Puerto Rico expects U.S. to lift Jones Act shi...   \n",
       "3   OOPS: Trump Just Accidentally Confirmed He Le...   \n",
       "4  Donald Trump heads for Scotland to reopen a go...   \n",
       "\n",
       "                                                text       subject  \\\n",
       "0  21st Century Wire says Ben Stein, reputable pr...        usnews   \n",
       "1  WASHINGTON (Reuters) - U.S. President Donald T...  politicsnews   \n",
       "2  (Reuters) - Puerto Rico Governor Ricardo Rosse...  politicsnews   \n",
       "3  On Monday, Donald Trump once again embarrassed...          news   \n",
       "4  GLASGOW, Scotland (Reuters) - Most U.S. presid...  politicsnews   \n",
       "\n",
       "                  date  label  \\\n",
       "0    February 13, 2017      1   \n",
       "1       April 5, 2017       0   \n",
       "2  September 27, 2017       0   \n",
       "3         May 22, 2017      1   \n",
       "4       June 24, 2016       0   \n",
       "\n",
       "                                        cleaned_text  \\\n",
       "0  st century wire says ben stein reputable profe...   \n",
       "1  washington reuters us president donald trump r...   \n",
       "2  reuters puerto rico governor ricardo rossello ...   \n",
       "3  monday donald trump once again embarrassed him...   \n",
       "4  glasgow scotland reuters most us presidential ...   \n",
       "\n",
       "                                       cleaned_title  \n",
       "0  ben stein calls out th circuit court committed...  \n",
       "1  trump drops steve bannon from national securit...  \n",
       "2  puerto rico expects us lift jones act shipping...  \n",
       "3  oops trump just accidentally confirmed he leak...  \n",
       "4     donald trump heads scotland reopen golf resort  "
      ]
     },
     "execution_count": 10,
     "metadata": {},
     "output_type": "execute_result"
    }
   ],
   "source": [
    "def cleanedText(text):\n",
    "    # Remove special characters, numbers, and punctuation\n",
    "    text = re.sub(r'[^a-zA-Z\\s]', '', text)\n",
    "    # Convert text to lowercase\n",
    "    text = text.lower()\n",
    "    # Remove common stopwords (manually defined)\n",
    "    text = ' '.join(word for word in text.split() if word not in stop_words)\n",
    "    return text\n",
    "\n",
    "# Apply cleaning function to the text column\n",
    "data['cleaned_text'] = data['text'].apply(cleanedText)\n",
    "data['cleaned_title'] = data['title'].apply(cleanedText)\n",
    "data['subject'] = data['subject'].apply(cleanedText)\n",
    "\n",
    "print(\"Dataset after text cleaning:\")\n",
    "data.head()\n"
   ]
  },
  {
   "cell_type": "code",
   "execution_count": 11,
   "metadata": {},
   "outputs": [
    {
     "data": {
      "text/html": [
       "<div>\n",
       "<style scoped>\n",
       "    .dataframe tbody tr th:only-of-type {\n",
       "        vertical-align: middle;\n",
       "    }\n",
       "\n",
       "    .dataframe tbody tr th {\n",
       "        vertical-align: top;\n",
       "    }\n",
       "\n",
       "    .dataframe thead th {\n",
       "        text-align: right;\n",
       "    }\n",
       "</style>\n",
       "<table border=\"1\" class=\"dataframe\">\n",
       "  <thead>\n",
       "    <tr style=\"text-align: right;\">\n",
       "      <th></th>\n",
       "      <th>title</th>\n",
       "      <th>text</th>\n",
       "      <th>subject</th>\n",
       "      <th>label</th>\n",
       "      <th>cleaned_text</th>\n",
       "      <th>cleaned_title</th>\n",
       "    </tr>\n",
       "  </thead>\n",
       "  <tbody>\n",
       "    <tr>\n",
       "      <th>0</th>\n",
       "      <td>Ben Stein Calls Out 9th Circuit Court: Committ...</td>\n",
       "      <td>21st Century Wire says Ben Stein, reputable pr...</td>\n",
       "      <td>usnews</td>\n",
       "      <td>1</td>\n",
       "      <td>st century wire says ben stein reputable profe...</td>\n",
       "      <td>ben stein calls out th circuit court committed...</td>\n",
       "    </tr>\n",
       "    <tr>\n",
       "      <th>1</th>\n",
       "      <td>Trump drops Steve Bannon from National Securit...</td>\n",
       "      <td>WASHINGTON (Reuters) - U.S. President Donald T...</td>\n",
       "      <td>politicsnews</td>\n",
       "      <td>0</td>\n",
       "      <td>washington reuters us president donald trump r...</td>\n",
       "      <td>trump drops steve bannon from national securit...</td>\n",
       "    </tr>\n",
       "    <tr>\n",
       "      <th>2</th>\n",
       "      <td>Puerto Rico expects U.S. to lift Jones Act shi...</td>\n",
       "      <td>(Reuters) - Puerto Rico Governor Ricardo Rosse...</td>\n",
       "      <td>politicsnews</td>\n",
       "      <td>0</td>\n",
       "      <td>reuters puerto rico governor ricardo rossello ...</td>\n",
       "      <td>puerto rico expects us lift jones act shipping...</td>\n",
       "    </tr>\n",
       "    <tr>\n",
       "      <th>3</th>\n",
       "      <td>OOPS: Trump Just Accidentally Confirmed He Le...</td>\n",
       "      <td>On Monday, Donald Trump once again embarrassed...</td>\n",
       "      <td>news</td>\n",
       "      <td>1</td>\n",
       "      <td>monday donald trump once again embarrassed him...</td>\n",
       "      <td>oops trump just accidentally confirmed he leak...</td>\n",
       "    </tr>\n",
       "    <tr>\n",
       "      <th>4</th>\n",
       "      <td>Donald Trump heads for Scotland to reopen a go...</td>\n",
       "      <td>GLASGOW, Scotland (Reuters) - Most U.S. presid...</td>\n",
       "      <td>politicsnews</td>\n",
       "      <td>0</td>\n",
       "      <td>glasgow scotland reuters most us presidential ...</td>\n",
       "      <td>donald trump heads scotland reopen golf resort</td>\n",
       "    </tr>\n",
       "  </tbody>\n",
       "</table>\n",
       "</div>"
      ],
      "text/plain": [
       "                                               title  \\\n",
       "0  Ben Stein Calls Out 9th Circuit Court: Committ...   \n",
       "1  Trump drops Steve Bannon from National Securit...   \n",
       "2  Puerto Rico expects U.S. to lift Jones Act shi...   \n",
       "3   OOPS: Trump Just Accidentally Confirmed He Le...   \n",
       "4  Donald Trump heads for Scotland to reopen a go...   \n",
       "\n",
       "                                                text       subject  label  \\\n",
       "0  21st Century Wire says Ben Stein, reputable pr...        usnews      1   \n",
       "1  WASHINGTON (Reuters) - U.S. President Donald T...  politicsnews      0   \n",
       "2  (Reuters) - Puerto Rico Governor Ricardo Rosse...  politicsnews      0   \n",
       "3  On Monday, Donald Trump once again embarrassed...          news      1   \n",
       "4  GLASGOW, Scotland (Reuters) - Most U.S. presid...  politicsnews      0   \n",
       "\n",
       "                                        cleaned_text  \\\n",
       "0  st century wire says ben stein reputable profe...   \n",
       "1  washington reuters us president donald trump r...   \n",
       "2  reuters puerto rico governor ricardo rossello ...   \n",
       "3  monday donald trump once again embarrassed him...   \n",
       "4  glasgow scotland reuters most us presidential ...   \n",
       "\n",
       "                                       cleaned_title  \n",
       "0  ben stein calls out th circuit court committed...  \n",
       "1  trump drops steve bannon from national securit...  \n",
       "2  puerto rico expects us lift jones act shipping...  \n",
       "3  oops trump just accidentally confirmed he leak...  \n",
       "4     donald trump heads scotland reopen golf resort  "
      ]
     },
     "execution_count": 11,
     "metadata": {},
     "output_type": "execute_result"
    }
   ],
   "source": [
    "# We can assume the date of the news is never a correlation for fake news\n",
    "data = data.drop('date', axis = 1)\n",
    "data.head()"
   ]
  },
  {
   "cell_type": "markdown",
   "metadata": {},
   "source": [
    "### Splitting the Dataset  \n",
    "The dataset will be split into:  \n",
    "1. **Training Set**: 80% of the data used to train the model.  \n",
    "2. **Testing Set**: 20% of the data used to evaluate the model's performance.  \n"
   ]
  },
  {
   "cell_type": "code",
   "execution_count": 12,
   "metadata": {},
   "outputs": [
    {
     "name": "stdout",
     "output_type": "stream",
     "text": [
      "Training set size: (35751, 3)\n",
      "Testing set size: (8938, 3)\n"
     ]
    }
   ],
   "source": [
    "# Define features and target\n",
    "X = data[['subject', 'cleaned_title', 'cleaned_text']]\n",
    "y = data['label']\n",
    "\n",
    "# Split the data into training and testing sets\n",
    "X_train, X_test, y_train, y_test = train_test_split(X, y, test_size=0.2, random_state=42)\n",
    "\n",
    "# Display the shapes of the splits\n",
    "print(\"Training set size:\", X_train.shape)\n",
    "print(\"Testing set size:\", X_test.shape)\n"
   ]
  },
  {
   "cell_type": "markdown",
   "metadata": {},
   "source": [
    "### Feature Extraction  \n",
    "The text data will be converted into numerical features using the `TfidfVectorizer`. This method helps to weigh words based on their importance in the dataset.  \n"
   ]
  },
  {
   "cell_type": "code",
   "execution_count": 13,
   "metadata": {},
   "outputs": [
    {
     "name": "stdout",
     "output_type": "stream",
     "text": [
      "Transformed Features Shape: (44689, 10008)\n"
     ]
    }
   ],
   "source": [
    "'''This whole feature extracton part, ChatGPT helped me.'''\n",
    "# Initializing the TfidfVectorizer\n",
    "vectorizer = TfidfVectorizer(max_features=5000)\n",
    "\n",
    "# Preprocessing pipeline for the text columns\n",
    "preprocessor = ColumnTransformer(\n",
    "    transformers=[\n",
    "        ('subject', vectorizer, 'subject'),\n",
    "        ('title', vectorizer, 'cleaned_title'),\n",
    "        ('text', vectorizer, 'cleaned_text')\n",
    "    ])\n",
    "\n",
    "# Transform the data\n",
    "X_transformed = preprocessor.fit_transform(X)\n",
    "\n",
    "# Display the shape of the transformed data\n",
    "print(\"Transformed Features Shape:\", X_transformed.shape)"
   ]
  },
  {
   "cell_type": "markdown",
   "metadata": {},
   "source": [
    "### Model Training  \n",
    "The first model to be implemented is **Logistic Regression**. It is effective algorithm for binary classification tasks.  "
   ]
  },
  {
   "cell_type": "code",
   "execution_count": 14,
   "metadata": {},
   "outputs": [
    {
     "name": "stdout",
     "output_type": "stream",
     "text": [
      "Accuracy: 1.0\n",
      "\n",
      "Classification Report:\n",
      "               precision    recall  f1-score   support\n",
      "\n",
      "           0       1.00      1.00      1.00     21211\n",
      "           1       1.00      1.00      1.00     23478\n",
      "\n",
      "    accuracy                           1.00     44689\n",
      "   macro avg       1.00      1.00      1.00     44689\n",
      "weighted avg       1.00      1.00      1.00     44689\n",
      "\n",
      "\n",
      "Confusion Matrix:\n",
      " [[21211     0]\n",
      " [    0 23478]]\n"
     ]
    }
   ],
   "source": [
    "# Initializing the Logistic Regression model\n",
    "model = LogisticRegression(max_iter=1000, random_state=42)\n",
    "\n",
    "# Training the model on the transformed features\n",
    "model.fit(X_transformed, y)\n",
    "\n",
    "# Predicting on the training and testing sets\n",
    "y_pred = model.predict(X_transformed)\n",
    "\n",
    "# Evaluating the model\n",
    "print(\"Accuracy:\", accuracy_score(y, y_pred))\n",
    "print(\"\\nClassification Report:\\n\", classification_report(y, y_pred))\n",
    "print(\"\\nConfusion Matrix:\\n\", confusion_matrix(y, y_pred))"
   ]
  },
  {
   "cell_type": "markdown",
   "metadata": {},
   "source": [
    "### Model Evaluation and Cross-Validation  \n",
    "To ensure the model’s performance is stable and not overfitting, we will evaluate it using cross-validation."
   ]
  },
  {
   "cell_type": "code",
   "execution_count": 15,
   "metadata": {},
   "outputs": [
    {
     "name": "stdout",
     "output_type": "stream",
     "text": [
      "Cross-validation accuracy scores: [1. 1. 1. 1. 1.]\n",
      "Average cross-validation accuracy: 1.0\n"
     ]
    }
   ],
   "source": [
    "# Perform cross-validation\n",
    "cv_scores = cross_val_score(model, X_transformed, y, cv=5, scoring='accuracy')\n",
    "\n",
    "# Display the cross-validation results\n",
    "print(\"Cross-validation accuracy scores:\", cv_scores)\n",
    "print(\"Average cross-validation accuracy:\", cv_scores.mean())\n"
   ]
  },
  {
   "cell_type": "markdown",
   "metadata": {},
   "source": [
    "### Hyperparameter Tuning  \n",
    "We will now perform hyperparameter tuning using **GridSearchCV** to find the best parameters for the Logistic Regression model.\n"
   ]
  },
  {
   "cell_type": "code",
   "execution_count": 16,
   "metadata": {},
   "outputs": [
    {
     "name": "stdout",
     "output_type": "stream",
     "text": [
      "Best Parameters: {'C': 0.1, 'penalty': 'l2', 'solver': 'lbfgs'}\n",
      "Best Cross-Validation Accuracy: 1.0\n"
     ]
    }
   ],
   "source": [
    "# Define the parameter grid\n",
    "param_grid = {\n",
    "    'C': [0.1, 1, 10],  # Regularization strength\n",
    "    'penalty': ['l2'],  # Regularization type\n",
    "    'solver': ['lbfgs']  # Optimizer\n",
    "}\n",
    "\n",
    "# Initialize GridSearchCV\n",
    "grid_search = GridSearchCV(estimator=LogisticRegression(max_iter=1000, random_state=42),\n",
    "                           param_grid=param_grid,\n",
    "                           cv=5,\n",
    "                           scoring='accuracy')\n",
    "\n",
    "# Fit GridSearchCV to the full dataset\n",
    "grid_search.fit(X_transformed, y)\n",
    "\n",
    "# Display the best parameters found\n",
    "print(\"Best Parameters:\", grid_search.best_params_)\n",
    "print(\"Best Cross-Validation Accuracy:\", grid_search.best_score_)\n"
   ]
  },
  {
   "cell_type": "markdown",
   "metadata": {},
   "source": [
    "### Testing the Tuned Model  \n",
    "We will now use the best hyperparameters from GridSearchCV to train the Logistic Regression model and evaluate it on the testing set.\n"
   ]
  },
  {
   "cell_type": "code",
   "execution_count": 17,
   "metadata": {},
   "outputs": [
    {
     "name": "stdout",
     "output_type": "stream",
     "text": [
      "Tuned Model Testing Accuracy: 1.0\n",
      "\n",
      "Classification Report:\n",
      "               precision    recall  f1-score   support\n",
      "\n",
      "           0       1.00      1.00      1.00      4286\n",
      "           1       1.00      1.00      1.00      4652\n",
      "\n",
      "    accuracy                           1.00      8938\n",
      "   macro avg       1.00      1.00      1.00      8938\n",
      "weighted avg       1.00      1.00      1.00      8938\n",
      "\n",
      "\n",
      "Confusion Matrix:\n",
      " [[4286    0]\n",
      " [   0 4652]]\n"
     ]
    }
   ],
   "source": [
    "# Initialize the best model with tuned parameters\n",
    "tuned_model = LogisticRegression(\n",
    "    C=grid_search.best_params_['C'],\n",
    "    penalty=grid_search.best_params_['penalty'],\n",
    "    solver=grid_search.best_params_['solver'],\n",
    "    max_iter=1000,\n",
    "    random_state=42\n",
    ")\n",
    "\n",
    "# Apply the preprocessor to the training and testing features\n",
    "X_train_transformed = preprocessor.fit_transform(X_train)\n",
    "X_test_transformed = preprocessor.transform(X_test)\n",
    "\n",
    "# Train the tuned model on the training data\n",
    "tuned_model.fit(X_train_transformed, y_train)\n",
    "\n",
    "# Predict on the test set\n",
    "y_test_pred_tuned = tuned_model.predict(X_test_transformed)\n",
    "\n",
    "# Evaluate the tuned model\n",
    "print(\"Tuned Model Testing Accuracy:\", accuracy_score(y_test, y_test_pred_tuned))\n",
    "print(\"\\nClassification Report:\\n\", classification_report(y_test, y_test_pred_tuned))\n",
    "print(\"\\nConfusion Matrix:\\n\", confusion_matrix(y_test, y_test_pred_tuned))\n"
   ]
  },
  {
   "cell_type": "markdown",
   "metadata": {},
   "source": [
    "### Tuned Model Results  \n",
    "The tuned Logistic Regression model was evaluated on the test set, achieving the following results:  \n",
    "\n",
    "- **Accuracy**: 1.0\n",
    "- **Precision, Recall, F1-Score**: See detailed classification report above.  \n",
    "\n",
    "The confusion matrix below provides additional insights into the model's performance.\n"
   ]
  },
  {
   "cell_type": "code",
   "execution_count": 18,
   "metadata": {},
   "outputs": [
    {
     "data": {
      "image/png": "[encoded data removed]",
      "text/plain": [
       "<Figure size 640x480 with 2 Axes>"
      ]
     },
     "metadata": {},
     "output_type": "display_data"
    }
   ],
   "source": [
    "# Plotting the confusion matrix\n",
    "conf_matrix = confusion_matrix(y_test, y_test_pred_tuned)\n",
    "sns.heatmap(conf_matrix, annot=True, fmt='d', cmap='Blues')\n",
    "plt.title(\"Confusion Matrix\")\n",
    "plt.xlabel(\"Predicted Labels\")\n",
    "plt.ylabel(\"True Labels\")\n",
    "plt.show()\n"
   ]
  },
  {
   "cell_type": "markdown",
   "metadata": {},
   "source": [
    "### Discussion  \n",
    "\n",
    "The tuned Logistic Regression model demonstrated **exceptional performance**, achieving a testing accuracy of **100%** on the dataset. Below are detailed insights and reflections:  \n",
    "\n",
    "1. **Model Accuracy**:  \n",
    "   - The model correctly classified all 8,938 test samples, as evident from the confusion matrix, which shows **no false positives or false negatives**.  \n",
    "   - This leads to an accuracy of **1.00 (100%)**, which is rarely observed in real-world scenarios, particularly for textual data classification.  \n",
    "\n",
    "2. **Class-wise Performance**:  \n",
    "   - The classification report indicates perfect **precision, recall, and F1-score** for both classes (`Fake` and `True`), suggesting the model can precisely and comprehensively differentiate between the two categories.  \n",
    "   - These results demonstrate an ideal balance between avoiding false alarms (precision) and capturing all relevant instances (recall).  \n",
    "\n",
    "3. **Insights from the Confusion Matrix**:  \n",
    "   - The confusion matrix reflects that all 4,286 `Fake` samples and 4,652 `True` samples were correctly classified.  \n",
    "   - Such perfect classification is indicative of the effectiveness of both the feature extraction process and the simplicity of the logistic regression model for this particular dataset.\n",
    "\n",
    "4. **Potential Limitations and Concerns**:  \n",
    "   - **Overfitting**: Achieving perfect results may suggest overfitting to the specific dataset. The model might be memorizing patterns unique to this data rather than learning generalizable features.  \n",
    "   - **Dataset Bias**: If the dataset is imbalanced, too clean, or not diverse enough, it could lead to artificially inflated results. Further testing on external datasets or validation splits would provide more reliable insights into the model's true generalizability.  \n",
    "   - **Real-World Applicability**: Real-world fake news often contains noisy, ambiguous, or evolving linguistic patterns. This dataset might not fully capture such complexities.  \n",
    "\n",
    "5. **Strength of Feature Engineering**:  \n",
    "   - The combined use of TF-IDF vectorization for `subject`, `title`, and `text` appears to have played a key role in achieving these results.  \n",
    "   - Further analysis, such as feature importance or ablation studies, could help determine which feature contributes most to the model's predictive power.\n",
    "\n",
    "6. **Future Work and Improvements**:  \n",
    "   - **Generalizability Testing**: Testing on external datasets with different distributions or collecting real-world samples would be critical to assessing the model's robustness.  \n",
    "   - **Adversarial Testing**: Introducing noisy or adversarial examples could evaluate the model's ability to handle edge cases.  \n",
    "   - **Exploring Advanced Models**: While Logistic Regression is efficient, exploring advanced models such as ensemble methods (e.g., Random Forest, XGBoost) or deep learning architectures (e.g., LSTMs, transformers) could provide additional insights and improved generalization.  \n",
    "   - **Feature Engineering Enhancements**: Techniques like word embeddings (e.g., Word2Vec, GloVe) or contextual embeddings (e.g., BERT) could be explored to capture richer semantic relationships in the text.\n",
    "\n",
    "7. **Ethical Considerations**:  \n",
    "   - Fake news detection systems have societal implications. While this model shows strong performance, its deployment should consider biases, misinformation handling, and the risk of censorship.  \n",
    "\n",
    "8. **Conclusion of Observations**:  \n",
    "   - These results are promising and demonstrate the potential of machine learning models for fake news detection. However, caution must be exercised to ensure these findings extend to real-world scenarios where data is more complex and unpredictable.\n"
   ]
  },
  {
   "cell_type": "markdown",
   "metadata": {},
   "source": [
    "### Conclusion  \n",
    "\n",
    "This project demonstrated the successful application of machine learning for **fake news detection** using Logistic Regression. The following key points summarize the outcomes:\n",
    "\n",
    "1. **Model Performance**:  \n",
    "   - The Logistic Regression model achieved **perfect accuracy** on the test set, correctly classifying both `True` and `Fake` news articles. This indicates a high level of precision and recall across both categories.\n",
    "\n",
    "2. **Feature Engineering and Preprocessing**:  \n",
    "   - The use of **TF-IDF vectorization** for the `subject`, `title`, and `text` columns was effective in capturing the relevant features for classification, contributing to the high performance of the model.\n",
    "\n",
    "3. **Model Evaluation**:  \n",
    "   - The model's performance, including the **confusion matrix** and **classification report**, demonstrates its ability to reliably differentiate between fake and real news with **100% accuracy**. However, the potential for **overfitting** suggests that further validation on external datasets is necessary for confirming the model's generalizability.\n",
    "\n",
    "4. **Challenges and Limitations**:  \n",
    "   - While the model performs excellently on the given dataset, there are concerns regarding its ability to handle **real-world complexities** such as evolving language, noisy data, and varying writing styles. Further testing, feature enhancement, and possible use of advanced models could improve performance on diverse datasets.\n",
    "\n",
    "5. **Future Directions**:  \n",
    "   - Future work could focus on applying this model to a wider range of news sources, exploring other machine learning algorithms, and addressing the ethical implications of fake news detection systems. Additionally, techniques such as **adversarial training** and more advanced natural language processing models could be explored to enhance the robustness of the solution.\n",
    "\n",
    "In conclusion, the project demonstrated that machine learning, specifically Logistic Regression with TF-IDF, is an effective approach to detecting fake news, offering valuable insights into the potential applications of AI in combating misinformation.\n"
   ]
  },
  {
   "cell_type": "code",
   "execution_count": 19,
   "metadata": {},
   "outputs": [
    {
     "name": "stdout",
     "output_type": "stream",
     "text": [
      "Trained model saved as model/tuned_model.pkl\n",
      "Preprocessor saved as model/preprocessor.pkl\n"
     ]
    }
   ],
   "source": [
    "# saving the model\n",
    "import pickle\n",
    "\n",
    "# Filepaths to save the models\n",
    "model_filepath = 'model/tuned_model.pkl'\n",
    "preprocessor_filepath = 'model/preprocessor.pkl'\n",
    "\n",
    "# Save the trained model\n",
    "with open(model_filepath, 'wb') as model_file:\n",
    "    pickle.dump(tuned_model, model_file)\n",
    "print(f\"Trained model saved as {model_filepath}\")\n",
    "\n",
    "# Save the preprocessor\n",
    "with open(preprocessor_filepath, 'wb') as preprocessor_file:\n",
    "    pickle.dump(preprocessor, preprocessor_file)\n",
    "print(f\"Preprocessor saved as {preprocessor_filepath}\")\n"
   ]
  },
  {
   "cell_type": "code",
   "execution_count": null,
   "metadata": {},
   "outputs": [],
   "source": [
    "'''\n",
    "import pickle\n",
    "\n",
    "# Filepaths to the saved the models\n",
    "model_filepath = 'model/tuned_model.pkl'\n",
    "preprocessor_filepath = 'model/preprocessor.pkl'\n",
    "\n",
    "# Load the trained model\n",
    "with open(model_filepath, 'rb') as model_file:\n",
    "    loaded_model = pickle.load(model_file)\n",
    "print(\"Trained model loaded.\")\n",
    "\n",
    "# Load the preprocessor\n",
    "with open(preprocessor_filepath, 'rb') as preprocessor_file:\n",
    "    loaded_preprocessor = pickle.load(preprocessor_file)\n",
    "print(\"Preprocessor loaded.\")\n",
    "\n",
    "'''"
   ]
  }
 ],
 "metadata": {
  "kernelspec": {
   "display_name": "fn_detect",
   "language": "python",
   "name": "python3"
  },
  "language_info": {
   "codemirror_mode": {
    "name": "ipython",
    "version": 3
   },
   "file_extension": ".py",
   "mimetype": "text/x-python",
   "name": "python",
   "nbconvert_exporter": "python",
   "pygments_lexer": "ipython3",
   "version": "3.12.3"
  }
 },
 "nbformat": 4,
 "nbformat_minor": 2
}
